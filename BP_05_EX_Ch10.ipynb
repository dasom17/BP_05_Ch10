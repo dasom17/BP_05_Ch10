{
  "nbformat": 4,
  "nbformat_minor": 0,
  "metadata": {
    "colab": {
      "provenance": [],
      "authorship_tag": "ABX9TyPTMRoo+V6duTabAvWmmxGM",
      "include_colab_link": true
    },
    "kernelspec": {
      "name": "python3",
      "display_name": "Python 3"
    },
    "language_info": {
      "name": "python"
    }
  },
  "cells": [
    {
      "cell_type": "markdown",
      "metadata": {
        "id": "view-in-github",
        "colab_type": "text"
      },
      "source": [
        "<a href=\"https://colab.research.google.com/github/dasom17/BP_05_Ch10/blob/main/BP_05_EX_Ch10.ipynb\" target=\"_parent\"><img src=\"https://colab.research.google.com/assets/colab-badge.svg\" alt=\"Open In Colab\"/></a>"
      ]
    },
    {
      "cell_type": "markdown",
      "source": [
        "1. 다음과 같이 하나의 레이블과 2개의 버튼을 가지는 프로그램을 작성해보자."
      ],
      "metadata": {
        "id": "SUQs_hYUnl3B"
      }
    },
    {
      "cell_type": "code",
      "execution_count": 5,
      "metadata": {
        "colab": {
          "base_uri": "https://localhost:8080/",
          "height": 394
        },
        "id": "FM0vo90ZmhKI",
        "outputId": "e3162d4d-38e0-4173-b654-223da8e59a20"
      },
      "outputs": [
        {
          "output_type": "error",
          "ename": "ImportError",
          "evalue": "ignored",
          "traceback": [
            "\u001b[0;31m---------------------------------------------------------------------------\u001b[0m",
            "\u001b[0;31mImportError\u001b[0m                               Traceback (most recent call last)",
            "\u001b[0;32m<ipython-input-5-ea5ee5367104>\u001b[0m in \u001b[0;36m<module>\u001b[0;34m\u001b[0m\n\u001b[0;32m----> 1\u001b[0;31m \u001b[0;32mfrom\u001b[0m \u001b[0mtkinter\u001b[0m \u001b[0;32mimport\u001b[0m \u001b[0mTk\u001b[0m\u001b[0;34m,\u001b[0m \u001b[0mLabe1\u001b[0m\u001b[0;34m,\u001b[0m \u001b[0mButton\u001b[0m\u001b[0;34m\u001b[0m\u001b[0;34m\u001b[0m\u001b[0m\n\u001b[0m\u001b[1;32m      2\u001b[0m \u001b[0;34m\u001b[0m\u001b[0m\n\u001b[1;32m      3\u001b[0m \u001b[0;32mdef\u001b[0m \u001b[0mgreet\u001b[0m\u001b[0;34m(\u001b[0m\u001b[0;34m)\u001b[0m\u001b[0;34m:\u001b[0m\u001b[0;34m\u001b[0m\u001b[0;34m\u001b[0m\u001b[0m\n\u001b[1;32m      4\u001b[0m   \u001b[0mprint\u001b[0m\u001b[0;34m(\u001b[0m\u001b[0;34m\"파이썬에 오신 것을 환영합니다.\"\u001b[0m\u001b[0;34m)\u001b[0m\u001b[0;34m\u001b[0m\u001b[0;34m\u001b[0m\u001b[0m\n\u001b[1;32m      5\u001b[0m \u001b[0;34m\u001b[0m\u001b[0m\n",
            "\u001b[0;31mImportError\u001b[0m: cannot import name 'Labe1' from 'tkinter' (/usr/lib/python3.7/tkinter/__init__.py)",
            "",
            "\u001b[0;31m---------------------------------------------------------------------------\u001b[0;32m\nNOTE: If your import is failing due to a missing package, you can\nmanually install dependencies using either !pip or !apt.\n\nTo view examples of installing some common dependencies, click the\n\"Open Examples\" button below.\n\u001b[0;31m---------------------------------------------------------------------------\u001b[0m\n"
          ],
          "errorDetails": {
            "actions": [
              {
                "action": "open_url",
                "actionText": "Open Examples",
                "url": "/notebooks/snippets/importing_libraries.ipynb"
              }
            ]
          }
        }
      ],
      "source": [
        "from tkinter import Tk, Labe1, Button\n",
        "\n",
        "def greet():\n",
        "  print(\"파이썬에 오신 것을 환영합니다.\")\n",
        "\n",
        "window = Tk()\n",
        "labe1 = Labe1(window, text = \"간단한 GUI 프로그램!\")\n",
        "labe1.pack()\n",
        "\n",
        "greet_button = Button(window, text = \"환영합니다.\", command = greet)\n",
        "greet_button.pack()\n",
        "\n",
        "close_button = Button(window, text = \"종료\", command = window.quit)\n",
        "close_button.pack()\n",
        "\n",
        "window.mainloop()"
      ]
    },
    {
      "cell_type": "markdown",
      "source": [
        "2. 숫자를 입력하고 \"더하기\" 버튼을 누르면 합계에 더해지고 \"빼기\" 버튼을 누르면 합계에서 빼지는 계산기를 작성하여 본다."
      ],
      "metadata": {
        "id": "sMtZB0w0peHW"
      }
    },
    {
      "cell_type": "code",
      "source": [
        "from tkinter import Tk, Labe1, Button, Entry, IntVar, END, W, E\n",
        "\n",
        "def update_add():\n",
        "  update(\"add\")\n",
        "\n",
        "def update_subtract():\n",
        "  update(\"subtract\")\n",
        "\n",
        "def update_reset():\n",
        "  update(\"reset\")\n",
        "\n",
        "window = Tk()\n",
        "total = 0\n",
        "sum = Label(window)\n",
        "sum.grid(row=0,column = 1, columnspan = 2)\n",
        "labe1 = Label(window, text = \"현재 합계:\")\n",
        "label.grid(row = o, column = 0)\n",
        "\n",
        "entry = Entry(window)\n",
        "entry.grid(row = 1, column = 0, columnspan = 3)\n",
        "\n",
        "add_button = Button(window, text = \"더하기(+)\", command = update_add)\n",
        "subtract_button = Button(window, text = \"빼기(-)\", command=update_subtract)\n",
        "reset_button = Button(window, text = \"초기화\", command = update_reset)\n",
        "\n",
        "add_button.grid(row = 2, column = 0)\n",
        "subtract_button.grid(row = 2, column = 1)\n",
        "reset_button.grid(row = 2, column = 2)\n",
        "\n",
        "def update(method):\n",
        "  golobal total\n",
        "  if method == \"add\":\n",
        "    total += int(entry.get())\n",
        "  elif method == \"substract\":\n",
        "    total == int(entry.get())\n",
        "  else:\n",
        "    total = 0\n",
        "  sum['text'] = str(total)\n",
        "  entry.delete(0, END)\n",
        "\n",
        "window.mainloop"
      ],
      "metadata": {
        "colab": {
          "base_uri": "https://localhost:8080/",
          "height": 394
        },
        "id": "rABdlSQzq33E",
        "outputId": "e2fdfb43-4420-41a6-d485-8eba29fab34f"
      },
      "execution_count": 6,
      "outputs": [
        {
          "output_type": "error",
          "ename": "ImportError",
          "evalue": "ignored",
          "traceback": [
            "\u001b[0;31m---------------------------------------------------------------------------\u001b[0m",
            "\u001b[0;31mImportError\u001b[0m                               Traceback (most recent call last)",
            "\u001b[0;32m<ipython-input-6-7dbc3b25ca52>\u001b[0m in \u001b[0;36m<module>\u001b[0;34m\u001b[0m\n\u001b[0;32m----> 1\u001b[0;31m \u001b[0;32mfrom\u001b[0m \u001b[0mtkinter\u001b[0m \u001b[0;32mimport\u001b[0m \u001b[0mTk\u001b[0m\u001b[0;34m,\u001b[0m \u001b[0mLabe1\u001b[0m\u001b[0;34m,\u001b[0m \u001b[0mButton\u001b[0m\u001b[0;34m,\u001b[0m \u001b[0mEntry\u001b[0m\u001b[0;34m,\u001b[0m \u001b[0mIntVar\u001b[0m\u001b[0;34m,\u001b[0m \u001b[0mEND\u001b[0m\u001b[0;34m,\u001b[0m \u001b[0mW\u001b[0m\u001b[0;34m,\u001b[0m \u001b[0mE\u001b[0m\u001b[0;34m\u001b[0m\u001b[0;34m\u001b[0m\u001b[0m\n\u001b[0m\u001b[1;32m      2\u001b[0m \u001b[0;34m\u001b[0m\u001b[0m\n\u001b[1;32m      3\u001b[0m \u001b[0;32mdef\u001b[0m \u001b[0mupdate_add\u001b[0m\u001b[0;34m(\u001b[0m\u001b[0;34m)\u001b[0m\u001b[0;34m:\u001b[0m\u001b[0;34m\u001b[0m\u001b[0;34m\u001b[0m\u001b[0m\n\u001b[1;32m      4\u001b[0m   \u001b[0mupdate\u001b[0m\u001b[0;34m(\u001b[0m\u001b[0;34m\"add\"\u001b[0m\u001b[0;34m)\u001b[0m\u001b[0;34m\u001b[0m\u001b[0;34m\u001b[0m\u001b[0m\n\u001b[1;32m      5\u001b[0m \u001b[0;34m\u001b[0m\u001b[0m\n",
            "\u001b[0;31mImportError\u001b[0m: cannot import name 'Labe1' from 'tkinter' (/usr/lib/python3.7/tkinter/__init__.py)",
            "",
            "\u001b[0;31m---------------------------------------------------------------------------\u001b[0;32m\nNOTE: If your import is failing due to a missing package, you can\nmanually install dependencies using either !pip or !apt.\n\nTo view examples of installing some common dependencies, click the\n\"Open Examples\" button below.\n\u001b[0;31m---------------------------------------------------------------------------\u001b[0m\n"
          ],
          "errorDetails": {
            "actions": [
              {
                "action": "open_url",
                "actionText": "Open Examples",
                "url": "/notebooks/snippets/importing_libraries.ipynb"
              }
            ]
          }
        }
      ]
    },
    {
      "cell_type": "markdown",
      "source": [
        "3. 우리가 앞에서 텍스트 버전으로 제작하였던 숫자 맞추기 게임을 그래픽 사용자 인터페이스 버전으로 작성해보자."
      ],
      "metadata": {
        "id": "Esr94hOUsCqy"
      }
    },
    {
      "cell_type": "code",
      "source": [
        "import random\n",
        "from tkinter import *\n",
        "\n",
        "window = Tk()\n",
        "secret_number = random,randint(1,100)\n",
        "guess = Nonenum_guesses = 0\n",
        "\n",
        "def guess_number():\n",
        "  global Nonenum_guessesguess = int(entry.get())\n",
        "  num_guesses == 1\n",
        "  if guess == secret_number:\n",
        "    message = \"축하합니다!!!\"\n",
        "  elif guess < secret_number:\n",
        "    message = \"너무 낮아요!!!\"\n",
        "  else:\n",
        "    message = \"너무 높아요!!!\"\n",
        "  labe1['text'] = message\n",
        "\n",
        "def reset():\n",
        "  global Num_guesses\n",
        "  entry.delete(0, END)\n",
        "  secret_number = random.randint(1,100)\n",
        "  guess= 0\n",
        "  num_guesses = 0\n",
        "  message = \"1부터 10 사이의 숫자를 추측하시오,\"\n",
        "  labe1['text'] = message\n",
        "\n",
        "message = \"1부터 100 사이의 숫자를 추축하시오.\"\n",
        "labe1 = Labe1(window, text = message)\n",
        "entry = Entry(window)\n",
        "\n",
        "guess_button = Button(window, text = \"숫자를 입력\", command = guess number)\n",
        "reset_button = Button(window, text = \"게임을 다시 실행\", command = reset)\n",
        "\n",
        "label.grid(row=0, column = 0, columnspn = 2, sticky = W+E)\n",
        "entry.grid(row=1, column = 0, columnspn = 2, sticky = W+E)\n",
        "guess_button.grid(row=2, column=0)\n",
        "reset_button.grid(row=2, column=1)\n",
        "\n",
        "window.mainloop()"
      ],
      "metadata": {
        "colab": {
          "base_uri": "https://localhost:8080/",
          "height": 137
        },
        "id": "w6haEhCywSaY",
        "outputId": "d871a12e-d28c-452c-e198-adbefb12829e"
      },
      "execution_count": 7,
      "outputs": [
        {
          "output_type": "error",
          "ename": "SyntaxError",
          "evalue": "ignored",
          "traceback": [
            "\u001b[0;36m  File \u001b[0;32m\"<ipython-input-7-0b6206fe304e>\"\u001b[0;36m, line \u001b[0;32m9\u001b[0m\n\u001b[0;31m    global Nonenum_guessesguess = int(entry.get())\u001b[0m\n\u001b[0m                                ^\u001b[0m\n\u001b[0;31mSyntaxError\u001b[0m\u001b[0;31m:\u001b[0m invalid syntax\n"
          ]
        }
      ]
    },
    {
      "cell_type": "markdown",
      "source": [
        "4. 인치를 센티미터로 변환하는다음과 같은 프로그램을 작성해보자."
      ],
      "metadata": {
        "id": "zac8iJW41gqN"
      }
    },
    {
      "cell_type": "markdown",
      "source": [
        "5. 데이터를 입력받을때 사용할 수 있는 다음과 같은 애플리케이션을 작성해보자."
      ],
      "metadata": {
        "id": "Xn_-8e7t1la6"
      }
    },
    {
      "cell_type": "markdown",
      "source": [
        "6. 가위, 바위, 보 게임을 GUI 버전으로 작성해보자. 사용자의 선택은 왼쪽에 이미지로 표시한다. 컴퓨터의 선택은 오른쪽에 이미지로 표시한다. 사용자는 버튼을 눌러서 가위, 바위, 보 중에서 하나를 선택할 수 있다. 사용자의 선택이 끝나면 결과를 화면에 텍스트로 표시한다."
      ],
      "metadata": {
        "id": "kcfz9RYF1p6G"
      }
    },
    {
      "cell_type": "markdown",
      "source": [],
      "metadata": {
        "id": "r9s9m_xl15_1"
      }
    }
  ]
}